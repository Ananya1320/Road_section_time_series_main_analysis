{
 "cells": [
  {
   "cell_type": "markdown",
   "metadata": {
    "id": "qZ8xU34CYzId"
   },
   "source": [
    "### Name - Ananya Goel\n",
    "### Roll No - 101903073\n",
    "### Group - 4CO3"
   ]
  },
  {
   "cell_type": "markdown",
   "metadata": {
    "id": "0hMozKlDYko-"
   },
   "source": [
    "#  For solving the time series prediction problem of Road sensor dataset using Light Gradient Boosting Machine"
   ]
  },
  {
   "cell_type": "markdown",
   "metadata": {
    "id": "z1pd7ONpZzGW"
   },
   "source": [
    "## Declaration and Preprocessing"
   ]
  },
  {
   "cell_type": "code",
   "execution_count": 27,
   "metadata": {
    "id": "HxyJw6nZPYIk"
   },
   "outputs": [],
   "source": [
    "# Import Section\n",
    "import pandas as pd\n",
    "import numpy as np\n",
    "import random\n",
    "import math\n",
    "from sklearn.metrics import mean_squared_error\n",
    "import matplotlib.pyplot as plt\n",
    "from matplotlib.pyplot import figure\n",
    "from sklearn.ensemble import ExtraTreesRegressor\n",
    "from sklearn.model_selection import cross_val_score\n",
    "import warnings\n",
    "from collections import defaultdict\n",
    "from lightgbm import LGBMRegressor"
   ]
  },
  {
   "cell_type": "code",
   "execution_count": 28,
   "metadata": {
    "id": "WsSqxQftjNX0"
   },
   "outputs": [],
   "source": [
    "warnings.filterwarnings(\"ignore\")"
   ]
  },
  {
   "cell_type": "code",
   "execution_count": 29,
   "metadata": {
    "id": "Wo5PYK90PaAU"
   },
   "outputs": [],
   "source": [
    "# Read and print the excel file\n",
    "dataf = pd.read_excel('ROAD_DATA.xlsx')"
   ]
  },
  {
   "cell_type": "markdown",
   "metadata": {
    "id": "LMmV9WSuQ42e"
   },
   "source": []
  },
  {
   "cell_type": "code",
   "execution_count": 30,
   "metadata": {
    "colab": {
     "base_uri": "https://localhost:8080/",
     "height": 206
    },
    "id": "yDlKMGp0FjTu",
    "outputId": "099b956f-6eb0-4982-fc2c-bfe646f4d833"
   },
   "outputs": [
    {
     "data": {
      "text/html": [
       "<div>\n",
       "<style scoped>\n",
       "    .dataframe tbody tr th:only-of-type {\n",
       "        vertical-align: middle;\n",
       "    }\n",
       "\n",
       "    .dataframe tbody tr th {\n",
       "        vertical-align: top;\n",
       "    }\n",
       "\n",
       "    .dataframe thead th {\n",
       "        text-align: right;\n",
       "    }\n",
       "</style>\n",
       "<table border=\"1\" class=\"dataframe\">\n",
       "  <thead>\n",
       "    <tr style=\"text-align: right;\">\n",
       "      <th></th>\n",
       "      <th>Unnamed: 0</th>\n",
       "      <th>year</th>\n",
       "      <th>Para-1</th>\n",
       "      <th>Para-2</th>\n",
       "      <th>Para-3</th>\n",
       "      <th>Para-4</th>\n",
       "      <th>Para-5</th>\n",
       "      <th>Para-6</th>\n",
       "      <th>Para-7</th>\n",
       "      <th>Para-8</th>\n",
       "      <th>Para-9</th>\n",
       "      <th>Para-10</th>\n",
       "      <th>Para-11</th>\n",
       "      <th>Para-12</th>\n",
       "      <th>Para-13</th>\n",
       "    </tr>\n",
       "  </thead>\n",
       "  <tbody>\n",
       "    <tr>\n",
       "      <th>0</th>\n",
       "      <td>Sec_1</td>\n",
       "      <td>1</td>\n",
       "      <td>324.0</td>\n",
       "      <td>354.5</td>\n",
       "      <td>17.0</td>\n",
       "      <td>0.0</td>\n",
       "      <td>3</td>\n",
       "      <td>117</td>\n",
       "      <td>2600</td>\n",
       "      <td>400</td>\n",
       "      <td>0.0</td>\n",
       "      <td>0.0</td>\n",
       "      <td>0.0</td>\n",
       "      <td>0</td>\n",
       "      <td>1.52</td>\n",
       "    </tr>\n",
       "    <tr>\n",
       "      <th>1</th>\n",
       "      <td>NaN</td>\n",
       "      <td>2</td>\n",
       "      <td>324.0</td>\n",
       "      <td>161.1</td>\n",
       "      <td>18.2</td>\n",
       "      <td>0.0</td>\n",
       "      <td>4</td>\n",
       "      <td>106</td>\n",
       "      <td>5950</td>\n",
       "      <td>1190</td>\n",
       "      <td>0.0</td>\n",
       "      <td>3.4</td>\n",
       "      <td>0.0</td>\n",
       "      <td>0</td>\n",
       "      <td>1.62</td>\n",
       "    </tr>\n",
       "    <tr>\n",
       "      <th>2</th>\n",
       "      <td>NaN</td>\n",
       "      <td>3</td>\n",
       "      <td>324.0</td>\n",
       "      <td>170.7</td>\n",
       "      <td>18.5</td>\n",
       "      <td>0.0</td>\n",
       "      <td>4</td>\n",
       "      <td>110</td>\n",
       "      <td>5950</td>\n",
       "      <td>1190</td>\n",
       "      <td>0.0</td>\n",
       "      <td>21.3</td>\n",
       "      <td>0.0</td>\n",
       "      <td>4</td>\n",
       "      <td>1.68</td>\n",
       "    </tr>\n",
       "    <tr>\n",
       "      <th>3</th>\n",
       "      <td>NaN</td>\n",
       "      <td>4</td>\n",
       "      <td>324.0</td>\n",
       "      <td>223.9</td>\n",
       "      <td>18.9</td>\n",
       "      <td>0.0</td>\n",
       "      <td>3</td>\n",
       "      <td>110</td>\n",
       "      <td>6150</td>\n",
       "      <td>1340</td>\n",
       "      <td>0.0</td>\n",
       "      <td>21.3</td>\n",
       "      <td>0.0</td>\n",
       "      <td>5</td>\n",
       "      <td>1.78</td>\n",
       "    </tr>\n",
       "    <tr>\n",
       "      <th>4</th>\n",
       "      <td>NaN</td>\n",
       "      <td>5</td>\n",
       "      <td>324.0</td>\n",
       "      <td>228.2</td>\n",
       "      <td>18.4</td>\n",
       "      <td>0.0</td>\n",
       "      <td>2</td>\n",
       "      <td>113</td>\n",
       "      <td>6340</td>\n",
       "      <td>1450</td>\n",
       "      <td>0.0</td>\n",
       "      <td>23.9</td>\n",
       "      <td>0.0</td>\n",
       "      <td>7</td>\n",
       "      <td>1.80</td>\n",
       "    </tr>\n",
       "  </tbody>\n",
       "</table>\n",
       "</div>"
      ],
      "text/plain": [
       "  Unnamed: 0  year  Para-1  Para-2  Para-3  Para-4  Para-5  Para-6  Para-7  \\\n",
       "0      Sec_1     1   324.0   354.5    17.0     0.0       3     117    2600   \n",
       "1        NaN     2   324.0   161.1    18.2     0.0       4     106    5950   \n",
       "2        NaN     3   324.0   170.7    18.5     0.0       4     110    5950   \n",
       "3        NaN     4   324.0   223.9    18.9     0.0       3     110    6150   \n",
       "4        NaN     5   324.0   228.2    18.4     0.0       2     113    6340   \n",
       "\n",
       "   Para-8  Para-9  Para-10  Para-11  Para-12  Para-13  \n",
       "0     400     0.0      0.0      0.0        0     1.52  \n",
       "1    1190     0.0      3.4      0.0        0     1.62  \n",
       "2    1190     0.0     21.3      0.0        4     1.68  \n",
       "3    1340     0.0     21.3      0.0        5     1.78  \n",
       "4    1450     0.0     23.9      0.0        7     1.80  "
      ]
     },
     "execution_count": 30,
     "metadata": {},
     "output_type": "execute_result"
    }
   ],
   "source": [
    "# Print the dataset\n",
    "dataf.head()"
   ]
  },
  {
   "cell_type": "code",
   "execution_count": 31,
   "metadata": {
    "id": "4bbI1N_QRKM8"
   },
   "outputs": [],
   "source": [
    "# Remove anomolies of sections\n",
    "clear_idx = 910\n",
    "lst_to_clear = []\n",
    "for i in range(9):\n",
    "  lst_to_clear.append(clear_idx+i)\n",
    "lst_to_clear\n",
    "dataf.fillna(0, inplace=True)\n",
    "dataf.drop(lst_to_clear, inplace = True)"
   ]
  },
  {
   "cell_type": "code",
   "execution_count": 32,
   "metadata": {
    "id": "GZvPLb_7FvqT"
   },
   "outputs": [],
   "source": [
    "# Rename column to section_name\n",
    "dataf.columns = dataf.columns.str.replace('Unnamed: 0', 'Section')"
   ]
  },
  {
   "cell_type": "code",
   "execution_count": 33,
   "metadata": {
    "colab": {
     "base_uri": "https://localhost:8080/",
     "height": 206
    },
    "id": "UP8GnrJTPuMA",
    "outputId": "b653048e-409d-4239-845f-1b9042d9170e"
   },
   "outputs": [
    {
     "data": {
      "text/html": [
       "<div>\n",
       "<style scoped>\n",
       "    .dataframe tbody tr th:only-of-type {\n",
       "        vertical-align: middle;\n",
       "    }\n",
       "\n",
       "    .dataframe tbody tr th {\n",
       "        vertical-align: top;\n",
       "    }\n",
       "\n",
       "    .dataframe thead th {\n",
       "        text-align: right;\n",
       "    }\n",
       "</style>\n",
       "<table border=\"1\" class=\"dataframe\">\n",
       "  <thead>\n",
       "    <tr style=\"text-align: right;\">\n",
       "      <th></th>\n",
       "      <th>Section</th>\n",
       "      <th>year</th>\n",
       "      <th>Para-1</th>\n",
       "      <th>Para-2</th>\n",
       "      <th>Para-3</th>\n",
       "      <th>Para-4</th>\n",
       "      <th>Para-5</th>\n",
       "      <th>Para-6</th>\n",
       "      <th>Para-7</th>\n",
       "      <th>Para-8</th>\n",
       "      <th>Para-9</th>\n",
       "      <th>Para-10</th>\n",
       "      <th>Para-11</th>\n",
       "      <th>Para-12</th>\n",
       "      <th>Para-13</th>\n",
       "    </tr>\n",
       "  </thead>\n",
       "  <tbody>\n",
       "    <tr>\n",
       "      <th>0</th>\n",
       "      <td>Sec_1</td>\n",
       "      <td>1</td>\n",
       "      <td>324.0</td>\n",
       "      <td>354.5</td>\n",
       "      <td>17.0</td>\n",
       "      <td>0.0</td>\n",
       "      <td>3</td>\n",
       "      <td>117</td>\n",
       "      <td>2600</td>\n",
       "      <td>400</td>\n",
       "      <td>0.0</td>\n",
       "      <td>0.0</td>\n",
       "      <td>0.0</td>\n",
       "      <td>0</td>\n",
       "      <td>1.52</td>\n",
       "    </tr>\n",
       "    <tr>\n",
       "      <th>1</th>\n",
       "      <td>Sec_1</td>\n",
       "      <td>2</td>\n",
       "      <td>324.0</td>\n",
       "      <td>161.1</td>\n",
       "      <td>18.2</td>\n",
       "      <td>0.0</td>\n",
       "      <td>4</td>\n",
       "      <td>106</td>\n",
       "      <td>5950</td>\n",
       "      <td>1190</td>\n",
       "      <td>0.0</td>\n",
       "      <td>3.4</td>\n",
       "      <td>0.0</td>\n",
       "      <td>0</td>\n",
       "      <td>1.62</td>\n",
       "    </tr>\n",
       "    <tr>\n",
       "      <th>2</th>\n",
       "      <td>Sec_1</td>\n",
       "      <td>3</td>\n",
       "      <td>324.0</td>\n",
       "      <td>170.7</td>\n",
       "      <td>18.5</td>\n",
       "      <td>0.0</td>\n",
       "      <td>4</td>\n",
       "      <td>110</td>\n",
       "      <td>5950</td>\n",
       "      <td>1190</td>\n",
       "      <td>0.0</td>\n",
       "      <td>21.3</td>\n",
       "      <td>0.0</td>\n",
       "      <td>4</td>\n",
       "      <td>1.68</td>\n",
       "    </tr>\n",
       "    <tr>\n",
       "      <th>3</th>\n",
       "      <td>Sec_1</td>\n",
       "      <td>4</td>\n",
       "      <td>324.0</td>\n",
       "      <td>223.9</td>\n",
       "      <td>18.9</td>\n",
       "      <td>0.0</td>\n",
       "      <td>3</td>\n",
       "      <td>110</td>\n",
       "      <td>6150</td>\n",
       "      <td>1340</td>\n",
       "      <td>0.0</td>\n",
       "      <td>21.3</td>\n",
       "      <td>0.0</td>\n",
       "      <td>5</td>\n",
       "      <td>1.78</td>\n",
       "    </tr>\n",
       "    <tr>\n",
       "      <th>4</th>\n",
       "      <td>Sec_1</td>\n",
       "      <td>5</td>\n",
       "      <td>324.0</td>\n",
       "      <td>228.2</td>\n",
       "      <td>18.4</td>\n",
       "      <td>0.0</td>\n",
       "      <td>2</td>\n",
       "      <td>113</td>\n",
       "      <td>6340</td>\n",
       "      <td>1450</td>\n",
       "      <td>0.0</td>\n",
       "      <td>23.9</td>\n",
       "      <td>0.0</td>\n",
       "      <td>7</td>\n",
       "      <td>1.80</td>\n",
       "    </tr>\n",
       "  </tbody>\n",
       "</table>\n",
       "</div>"
      ],
      "text/plain": [
       "  Section  year  Para-1  Para-2  Para-3  Para-4  Para-5  Para-6  Para-7  \\\n",
       "0   Sec_1     1   324.0   354.5    17.0     0.0       3     117    2600   \n",
       "1   Sec_1     2   324.0   161.1    18.2     0.0       4     106    5950   \n",
       "2   Sec_1     3   324.0   170.7    18.5     0.0       4     110    5950   \n",
       "3   Sec_1     4   324.0   223.9    18.9     0.0       3     110    6150   \n",
       "4   Sec_1     5   324.0   228.2    18.4     0.0       2     113    6340   \n",
       "\n",
       "   Para-8  Para-9  Para-10  Para-11  Para-12  Para-13  \n",
       "0     400     0.0      0.0      0.0        0     1.52  \n",
       "1    1190     0.0      3.4      0.0        0     1.62  \n",
       "2    1190     0.0     21.3      0.0        4     1.68  \n",
       "3    1340     0.0     21.3      0.0        5     1.78  \n",
       "4    1450     0.0     23.9      0.0        7     1.80  "
      ]
     },
     "execution_count": 33,
     "metadata": {},
     "output_type": "execute_result"
    }
   ],
   "source": [
    "# Naming sections \n",
    "mul = 10\n",
    "j = 0\n",
    "for i in range(100):\n",
    "  sec_name = dataf.iloc[j,0]\n",
    "  dataf.iloc[j:j + mul, 0] = sec_name\n",
    "  j += mul\n",
    "test_frame = dataf.loc[dataf['year'] == 10]\n",
    "dataf.head()"
   ]
  },
  {
   "cell_type": "markdown",
   "metadata": {
    "id": "PjRRsg7rMWY3"
   },
   "source": [
    "# Training and Testing - Define the Light Gradient Boosting Machine"
   ]
  },
  {
   "cell_type": "code",
   "execution_count": 34,
   "metadata": {
    "id": "EEIe6wtAI4gY"
   },
   "outputs": [],
   "source": [
    "model = LGBMRegressor(random_state=19)"
   ]
  },
  {
   "cell_type": "markdown",
   "metadata": {
    "id": "YomOG_54GD8j"
   },
   "source": [
    "## Extract the test and training dataset for each section"
   ]
  },
  {
   "cell_type": "code",
   "execution_count": 35,
   "metadata": {
    "id": "FnEh2L9Uk-kk"
   },
   "outputs": [],
   "source": [
    "# Extract the training part of input dataset\n",
    "o = 9\n",
    "def e_xtrain(dataf, rowstart, colstart):\n",
    "  row_end = rowstart + o\n",
    "  return dataf.iloc[rowstart:row_end, 1:10]"
   ]
  },
  {
   "cell_type": "code",
   "execution_count": 36,
   "metadata": {
    "id": "WYAWxMoZmsTR"
   },
   "outputs": [],
   "source": [
    "# Extract the training part of output dataset\n",
    "def e_ytrain(dataf, rowstart, colstart):\n",
    "  row_end = rowstart + o\n",
    "  return dataf.iloc[rowstart:row_end, colstart]"
   ]
  },
  {
   "cell_type": "code",
   "execution_count": 37,
   "metadata": {
    "id": "63jMYzNMoNkM"
   },
   "outputs": [],
   "source": [
    "# Extract the testing part of input dataset\n",
    "def e_xtest(dataf, rowstart):\n",
    "  row_end = rowstart + o\n",
    "  return dataf.iloc[row_end, 1:10].to_numpy()"
   ]
  },
  {
   "cell_type": "code",
   "execution_count": 38,
   "metadata": {
    "id": "-popZ5EKpIFF"
   },
   "outputs": [],
   "source": [
    "# Extract the output part of ouput dataset\n",
    "def e_ytest(dataf, rowstart, colstart):\n",
    "  row_end = rowstart + o\n",
    "  return dataf.iloc[row_end, colstart]"
   ]
  },
  {
   "cell_type": "code",
   "execution_count": 39,
   "metadata": {
    "id": "Hc0aufB8HepN"
   },
   "outputs": [],
   "source": [
    "# function to calcuate mean square error\n",
    "def cal_lmse(predict_val, test_val):\n",
    "  pred_diff = predict_val - test_val\n",
    "  return (pred_diff)**2"
   ]
  },
  {
   "cell_type": "code",
   "execution_count": 40,
   "metadata": {
    "id": "bxMogYPsJ6W_"
   },
   "outputs": [],
   "source": [
    "# Get the XY Split\n",
    "column_name = [\"Para-\"+str(i) for i in range(9,14)]\n",
    "XY = []\n",
    "def getXYsplit(dataf, rowstart, row_end):\n",
    "  XY = []\n",
    "  XY.append(e_xtrain(dataf, rowstart, row_end))\n",
    "  XY.append(e_ytrain(dataf, rowstart, row_end))\n",
    "  XY.append(e_xtest(dataf,rowstart))\n",
    "  XY.append(e_ytest(dataf,rowstart,row_end))\n",
    "  return XY"
   ]
  },
  {
   "cell_type": "code",
   "execution_count": 41,
   "metadata": {
    "id": "TrPevRoAP2B4"
   },
   "outputs": [],
   "source": [
    "# Create a dictionary for storing predicted and true values\n",
    "pred_values = defaultdict(lambda : [])"
   ]
  },
  {
   "cell_type": "code",
   "execution_count": 42,
   "metadata": {
    "id": "7xVANkmQM0FQ"
   },
   "outputs": [],
   "source": [
    "from sklearn.metrics import mean_squared_error"
   ]
  },
  {
   "cell_type": "code",
   "execution_count": 43,
   "metadata": {
    "id": "788BlhlMP3OY"
   },
   "outputs": [],
   "source": [
    "coltarget = [10,11,12,13,14]\n",
    "rmse = []\n",
    "totalcount = 0\n",
    "currsection = 0\n",
    "total_squarederror = 0\n",
    "maxval = 1000\n",
    "for j in coltarget:\n",
    "  local_squared_error = 0\n",
    "  l_count = 0\n",
    "  LXY = [0,0,0,0]\n",
    "  for i in range(0, maxval, 10):\n",
    "    LXY = getXYsplit(dataf,i,j)\n",
    "    x_train, y_train,x_test,y_test = LXY[0],LXY[1],LXY[2],LXY[3]\n",
    "\n",
    "    # fit the model and predict\n",
    "    model.fit(x_train, y_train)\n",
    "    ypred = model.predict(x_test.reshape(1,-1))[0]\n",
    "\n",
    "    # store the predicted values\n",
    "    pred_values[column_name[currsection]].append(ypred)\n",
    "    \n",
    "    # store squared difference for RMSE\n",
    "\n",
    "    # local_squared_error = calcuate_lmse(ypred, y_test) + local_squared_error\n",
    "    total_squarederror = cal_lmse(ypred, y_test) + total_squarederror\n",
    "    l_count += 1\n",
    "    totalcount += 1\n",
    "\n",
    "  # root_mean_square_error.append(local_squared_error)\n",
    "  currsection += 1\n",
    "predicted_df = pd.DataFrame.from_dict(pred_values)"
   ]
  },
  {
   "cell_type": "code",
   "execution_count": 44,
   "metadata": {
    "colab": {
     "base_uri": "https://localhost:8080/"
    },
    "id": "MfdrXDozP6U2",
    "outputId": "3aa1b921-7c27-4729-cfed-23802db4f9b5"
   },
   "outputs": [
    {
     "name": "stdout",
     "output_type": "stream",
     "text": [
      "The RMSE is 68.76256275509705\n"
     ]
    }
   ],
   "source": [
    "# Calculate  RMSE\n",
    "total_rmse_by_n = total_squarederror/totalcount\n",
    "final_rmse = total_rmse_by_n**0.5\n",
    "\n",
    "print(\"The RMSE is \" + str(final_rmse))"
   ]
  }
 ],
 "metadata": {
  "colab": {
   "provenance": []
  },
  "kernelspec": {
   "display_name": "Python 3 (ipykernel)",
   "language": "python",
   "name": "python3"
  },
  "language_info": {
   "codemirror_mode": {
    "name": "ipython",
    "version": 3
   },
   "file_extension": ".py",
   "mimetype": "text/x-python",
   "name": "python",
   "nbconvert_exporter": "python",
   "pygments_lexer": "ipython3",
   "version": "3.9.7"
  }
 },
 "nbformat": 4,
 "nbformat_minor": 1
}
